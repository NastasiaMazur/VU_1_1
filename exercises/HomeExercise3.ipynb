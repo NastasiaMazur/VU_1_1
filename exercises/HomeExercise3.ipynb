{
  "nbformat": 4,
  "nbformat_minor": 0,
  "metadata": {
    "colab": {
      "provenance": [],
      "include_colab_link": true
    },
    "kernelspec": {
      "name": "python3",
      "display_name": "Python 3"
    },
    "language_info": {
      "name": "python"
    }
  },
  "cells": [
    {
      "cell_type": "markdown",
      "metadata": {
        "id": "view-in-github",
        "colab_type": "text"
      },
      "source": [
        "<a href=\"https://colab.research.google.com/github/NastasiaMazur/VU_1_1/blob/main/exercises/HomeExercise3.ipynb\" target=\"_parent\"><img src=\"https://colab.research.google.com/assets/colab-badge.svg\" alt=\"Open In Colab\"/></a>"
      ]
    },
    {
      "cell_type": "markdown",
      "source": [
        "# Home Exercise 3: Creating Neural Model in PyTorch\n",
        "\n",
        "In this home exercise, you will first learn how to create a neural model in PyTorch and then you will train and improve a mini-implementation of an embedding model.\n"
      ],
      "metadata": {
        "id": "uoESZ6QpJqlh"
      }
    },
    {
      "cell_type": "markdown",
      "source": [
        "---\n",
        "\n",
        "## **Exercise 3a: Neural Network Model**\n",
        "\n",
        "First we need to import the neural network module of PyTorch:"
      ],
      "metadata": {
        "id": "816q6jCdJ9sP"
      }
    },
    {
      "cell_type": "code",
      "execution_count": 161,
      "metadata": {
        "id": "cPYVg894JmTc"
      },
      "outputs": [],
      "source": [
        "import torch\n",
        "import torch.nn as nn"
      ]
    },
    {
      "cell_type": "markdown",
      "source": [
        "We can use `nn.Linear(H_in, H_out)` to create a a linear layer. This will take a matrix of `(N, *, H_in)` dimensions and output a matrix of `(N, *, H_out)`. The `*` denotes that there could be arbitrary number of dimensions in between. The linear layer performs the operation `Ax+b`, where `A` and `b` are initialized randomly. If we don't want the linear layer to learn the bias parameters, we can initialize our layer with `bias=False`."
      ],
      "metadata": {
        "id": "NvK5KMXlad5E"
      }
    },
    {
      "cell_type": "code",
      "source": [
        "# Create the inputs\n",
        "input = torch.ones(2,3,4)\n",
        "print(\"Input \", input)\n",
        "\n",
        "# N* H_in -> N*H_out\n",
        "linear = nn.Linear(4, 2)\n",
        "linear_output = linear(input)\n",
        "linear_output"
      ],
      "metadata": {
        "id": "TSt4jv5Dag8K",
        "colab": {
          "base_uri": "https://localhost:8080/"
        },
        "outputId": "e467c889-edff-47b4-a742-8ea84ba9c8db"
      },
      "execution_count": 162,
      "outputs": [
        {
          "output_type": "stream",
          "name": "stdout",
          "text": [
            "Input  tensor([[[1., 1., 1., 1.],\n",
            "         [1., 1., 1., 1.],\n",
            "         [1., 1., 1., 1.]],\n",
            "\n",
            "        [[1., 1., 1., 1.],\n",
            "         [1., 1., 1., 1.],\n",
            "         [1., 1., 1., 1.]]])\n"
          ]
        },
        {
          "output_type": "execute_result",
          "data": {
            "text/plain": [
              "tensor([[[-0.6670, -0.1194],\n",
              "         [-0.6670, -0.1194],\n",
              "         [-0.6670, -0.1194]],\n",
              "\n",
              "        [[-0.6670, -0.1194],\n",
              "         [-0.6670, -0.1194],\n",
              "         [-0.6670, -0.1194]]], grad_fn=<ViewBackward0>)"
            ]
          },
          "metadata": {},
          "execution_count": 162
        }
      ]
    },
    {
      "cell_type": "code",
      "source": [
        "list(linear.parameters()) # Ax + b"
      ],
      "metadata": {
        "id": "nxUN1Nf0a_Ep",
        "colab": {
          "base_uri": "https://localhost:8080/"
        },
        "outputId": "48d890fa-3969-4419-bf22-985906ef0bde"
      },
      "execution_count": 163,
      "outputs": [
        {
          "output_type": "execute_result",
          "data": {
            "text/plain": [
              "[Parameter containing:\n",
              " tensor([[-0.3725, -0.3647, -0.2755, -0.1436],\n",
              "         [ 0.0393,  0.2583,  0.1404, -0.1708]], requires_grad=True),\n",
              " Parameter containing:\n",
              " tensor([ 0.4893, -0.3865], requires_grad=True)]"
            ]
          },
          "metadata": {},
          "execution_count": 163
        }
      ]
    },
    {
      "cell_type": "markdown",
      "source": [
        "Let's add an activation function:"
      ],
      "metadata": {
        "id": "hPBSQbAQbJ-q"
      }
    },
    {
      "cell_type": "code",
      "source": [
        "sigmoid = nn.Sigmoid()\n",
        "output = sigmoid(linear_output)\n",
        "output"
      ],
      "metadata": {
        "id": "GbEo76ejbLb2",
        "colab": {
          "base_uri": "https://localhost:8080/"
        },
        "outputId": "1ad538e9-848f-41aa-d95b-84b5c387383f"
      },
      "execution_count": 164,
      "outputs": [
        {
          "output_type": "execute_result",
          "data": {
            "text/plain": [
              "tensor([[[0.3392, 0.4702],\n",
              "         [0.3392, 0.4702],\n",
              "         [0.3392, 0.4702]],\n",
              "\n",
              "        [[0.3392, 0.4702],\n",
              "         [0.3392, 0.4702],\n",
              "         [0.3392, 0.4702]]], grad_fn=<SigmoidBackward0>)"
            ]
          },
          "metadata": {},
          "execution_count": 164
        }
      ]
    },
    {
      "cell_type": "markdown",
      "source": [
        "Instead of creating intermediate layers and passing variables around, we can create a sequence:"
      ],
      "metadata": {
        "id": "sawC0L7lbcZ1"
      }
    },
    {
      "cell_type": "code",
      "source": [
        "block = nn.Sequential(\n",
        "    nn.Linear(4, 2),\n",
        "    nn.Sigmoid()\n",
        ")\n",
        "\n",
        "input = torch.ones(2,3,4)\n",
        "output = block(input)\n",
        "output"
      ],
      "metadata": {
        "id": "XinqnT6TbhtY",
        "colab": {
          "base_uri": "https://localhost:8080/"
        },
        "outputId": "62f5bda6-9f76-42da-a735-187989fc4c17"
      },
      "execution_count": 165,
      "outputs": [
        {
          "output_type": "execute_result",
          "data": {
            "text/plain": [
              "tensor([[[0.3823, 0.6162],\n",
              "         [0.3823, 0.6162],\n",
              "         [0.3823, 0.6162]],\n",
              "\n",
              "        [[0.3823, 0.6162],\n",
              "         [0.3823, 0.6162],\n",
              "         [0.3823, 0.6162]]], grad_fn=<SigmoidBackward0>)"
            ]
          },
          "metadata": {},
          "execution_count": 165
        }
      ]
    },
    {
      "cell_type": "markdown",
      "source": [
        "---\n",
        "\n",
        "## **Exercise 3b: Word Embeddings**\n"
      ],
      "metadata": {
        "id": "_D_jInC4dMOU"
      }
    },
    {
      "cell_type": "markdown",
      "source": [
        "Instead of using predefined modules of nn we can define our own modules and build custom neural networks. As a toy example, we will convert words to word embeddings. The preprocessing below should be done more elegantly and not as simply as below."
      ],
      "metadata": {
        "id": "uEWtiwRybkj-"
      }
    },
    {
      "cell_type": "code",
      "source": [
        "import string\n",
        "\n",
        "# We will use Shakespeare Sonnet 2\n",
        "test_sentence = \"\"\"When forty winters shall besiege thy brow,\n",
        "And dig deep trenches in thy beauty's field,\n",
        "Thy youth's proud livery so gazed on now,\n",
        "Will be a totter'd weed of small worth held:\n",
        "Then being asked, where all thy beauty lies,\n",
        "Where all the treasure of thy lusty days;\n",
        "To say, within thine own deep sunken eyes,\n",
        "Were an all-eating shame, and thriftless praise.\n",
        "How much more praise deserv'd thy beauty's use,\n",
        "If thou couldst answer 'This fair child of mine\n",
        "Shall sum my count, and make my old excuse,'\n",
        "Proving his beauty by succession thine!\n",
        "This were to be new made when thou art old,\n",
        "And see thy blood warm when thou feel'st it cold.\"\"\"\n",
        "\n",
        "training_sentence = test_sentence.translate(str.maketrans('', '', string.punctuation)).lower().split()\n",
        "print(training_sentence)"
      ],
      "metadata": {
        "id": "HwIWa0p4dkH1",
        "colab": {
          "base_uri": "https://localhost:8080/"
        },
        "outputId": "9067fd44-8859-4f50-a176-a170ba01642f"
      },
      "execution_count": 166,
      "outputs": [
        {
          "output_type": "stream",
          "name": "stdout",
          "text": [
            "['when', 'forty', 'winters', 'shall', 'besiege', 'thy', 'brow', 'and', 'dig', 'deep', 'trenches', 'in', 'thy', 'beautys', 'field', 'thy', 'youths', 'proud', 'livery', 'so', 'gazed', 'on', 'now', 'will', 'be', 'a', 'totterd', 'weed', 'of', 'small', 'worth', 'held', 'then', 'being', 'asked', 'where', 'all', 'thy', 'beauty', 'lies', 'where', 'all', 'the', 'treasure', 'of', 'thy', 'lusty', 'days', 'to', 'say', 'within', 'thine', 'own', 'deep', 'sunken', 'eyes', 'were', 'an', 'alleating', 'shame', 'and', 'thriftless', 'praise', 'how', 'much', 'more', 'praise', 'deservd', 'thy', 'beautys', 'use', 'if', 'thou', 'couldst', 'answer', 'this', 'fair', 'child', 'of', 'mine', 'shall', 'sum', 'my', 'count', 'and', 'make', 'my', 'old', 'excuse', 'proving', 'his', 'beauty', 'by', 'succession', 'thine', 'this', 'were', 'to', 'be', 'new', 'made', 'when', 'thou', 'art', 'old', 'and', 'see', 'thy', 'blood', 'warm', 'when', 'thou', 'feelst', 'it', 'cold']\n"
          ]
        }
      ]
    },
    {
      "cell_type": "markdown",
      "source": [
        "Next let's find our vocabulary, i.e., all the unique words in the training data:"
      ],
      "metadata": {
        "id": "ZxO3KXxUflVy"
      }
    },
    {
      "cell_type": "code",
      "source": [
        "vocabulary = set(w for w in training_sentence)\n",
        "vocabulary"
      ],
      "metadata": {
        "id": "cINJIi0NgLIr",
        "colab": {
          "base_uri": "https://localhost:8080/"
        },
        "outputId": "fbad5418-62ae-490c-8915-17dbe9d2df85"
      },
      "execution_count": 167,
      "outputs": [
        {
          "output_type": "execute_result",
          "data": {
            "text/plain": [
              "{'a',\n",
              " 'all',\n",
              " 'alleating',\n",
              " 'an',\n",
              " 'and',\n",
              " 'answer',\n",
              " 'art',\n",
              " 'asked',\n",
              " 'be',\n",
              " 'beauty',\n",
              " 'beautys',\n",
              " 'being',\n",
              " 'besiege',\n",
              " 'blood',\n",
              " 'brow',\n",
              " 'by',\n",
              " 'child',\n",
              " 'cold',\n",
              " 'couldst',\n",
              " 'count',\n",
              " 'days',\n",
              " 'deep',\n",
              " 'deservd',\n",
              " 'dig',\n",
              " 'excuse',\n",
              " 'eyes',\n",
              " 'fair',\n",
              " 'feelst',\n",
              " 'field',\n",
              " 'forty',\n",
              " 'gazed',\n",
              " 'held',\n",
              " 'his',\n",
              " 'how',\n",
              " 'if',\n",
              " 'in',\n",
              " 'it',\n",
              " 'lies',\n",
              " 'livery',\n",
              " 'lusty',\n",
              " 'made',\n",
              " 'make',\n",
              " 'mine',\n",
              " 'more',\n",
              " 'much',\n",
              " 'my',\n",
              " 'new',\n",
              " 'now',\n",
              " 'of',\n",
              " 'old',\n",
              " 'on',\n",
              " 'own',\n",
              " 'praise',\n",
              " 'proud',\n",
              " 'proving',\n",
              " 'say',\n",
              " 'see',\n",
              " 'shall',\n",
              " 'shame',\n",
              " 'small',\n",
              " 'so',\n",
              " 'succession',\n",
              " 'sum',\n",
              " 'sunken',\n",
              " 'the',\n",
              " 'then',\n",
              " 'thine',\n",
              " 'this',\n",
              " 'thou',\n",
              " 'thriftless',\n",
              " 'thy',\n",
              " 'to',\n",
              " 'totterd',\n",
              " 'treasure',\n",
              " 'trenches',\n",
              " 'use',\n",
              " 'warm',\n",
              " 'weed',\n",
              " 'were',\n",
              " 'when',\n",
              " 'where',\n",
              " 'will',\n",
              " 'winters',\n",
              " 'within',\n",
              " 'worth',\n",
              " 'youths'}"
            ]
          },
          "metadata": {},
          "execution_count": 167
        }
      ]
    },
    {
      "cell_type": "markdown",
      "source": [
        "We introduce a special token, `<unk>`, to tackle the words that are out of vocabulary. We could pick another string for our unknown token if we wanted. The only requirement here is that our token should be unique: we should only be using this token for unknown words. We will also add this special token to our vocabulary."
      ],
      "metadata": {
        "id": "PyJFHmLHgdMa"
      }
    },
    {
      "cell_type": "code",
      "source": [
        "vocabulary.add(\"<unk>\")"
      ],
      "metadata": {
        "id": "B52a3cgage0n"
      },
      "execution_count": 168,
      "outputs": []
    },
    {
      "cell_type": "markdown",
      "source": [
        "Now we will create the index for our vocabulary - one index to word and one word to index to make looking up words easier:"
      ],
      "metadata": {
        "id": "0rxs8FuZha0R"
      }
    },
    {
      "cell_type": "code",
      "source": [
        "ix_to_word = sorted(list(vocabulary))\n",
        "word_to_ix = {word: ind for ind, word in enumerate(ix_to_word)}\n",
        "word_to_ix"
      ],
      "metadata": {
        "id": "ACclVi0PhhC9",
        "colab": {
          "base_uri": "https://localhost:8080/"
        },
        "outputId": "f7b1e71c-09c0-4994-8cbb-15013385625e"
      },
      "execution_count": 169,
      "outputs": [
        {
          "output_type": "execute_result",
          "data": {
            "text/plain": [
              "{'<unk>': 0,\n",
              " 'a': 1,\n",
              " 'all': 2,\n",
              " 'alleating': 3,\n",
              " 'an': 4,\n",
              " 'and': 5,\n",
              " 'answer': 6,\n",
              " 'art': 7,\n",
              " 'asked': 8,\n",
              " 'be': 9,\n",
              " 'beauty': 10,\n",
              " 'beautys': 11,\n",
              " 'being': 12,\n",
              " 'besiege': 13,\n",
              " 'blood': 14,\n",
              " 'brow': 15,\n",
              " 'by': 16,\n",
              " 'child': 17,\n",
              " 'cold': 18,\n",
              " 'couldst': 19,\n",
              " 'count': 20,\n",
              " 'days': 21,\n",
              " 'deep': 22,\n",
              " 'deservd': 23,\n",
              " 'dig': 24,\n",
              " 'excuse': 25,\n",
              " 'eyes': 26,\n",
              " 'fair': 27,\n",
              " 'feelst': 28,\n",
              " 'field': 29,\n",
              " 'forty': 30,\n",
              " 'gazed': 31,\n",
              " 'held': 32,\n",
              " 'his': 33,\n",
              " 'how': 34,\n",
              " 'if': 35,\n",
              " 'in': 36,\n",
              " 'it': 37,\n",
              " 'lies': 38,\n",
              " 'livery': 39,\n",
              " 'lusty': 40,\n",
              " 'made': 41,\n",
              " 'make': 42,\n",
              " 'mine': 43,\n",
              " 'more': 44,\n",
              " 'much': 45,\n",
              " 'my': 46,\n",
              " 'new': 47,\n",
              " 'now': 48,\n",
              " 'of': 49,\n",
              " 'old': 50,\n",
              " 'on': 51,\n",
              " 'own': 52,\n",
              " 'praise': 53,\n",
              " 'proud': 54,\n",
              " 'proving': 55,\n",
              " 'say': 56,\n",
              " 'see': 57,\n",
              " 'shall': 58,\n",
              " 'shame': 59,\n",
              " 'small': 60,\n",
              " 'so': 61,\n",
              " 'succession': 62,\n",
              " 'sum': 63,\n",
              " 'sunken': 64,\n",
              " 'the': 65,\n",
              " 'then': 66,\n",
              " 'thine': 67,\n",
              " 'this': 68,\n",
              " 'thou': 69,\n",
              " 'thriftless': 70,\n",
              " 'thy': 71,\n",
              " 'to': 72,\n",
              " 'totterd': 73,\n",
              " 'treasure': 74,\n",
              " 'trenches': 75,\n",
              " 'use': 76,\n",
              " 'warm': 77,\n",
              " 'weed': 78,\n",
              " 'were': 79,\n",
              " 'when': 80,\n",
              " 'where': 81,\n",
              " 'will': 82,\n",
              " 'winters': 83,\n",
              " 'within': 84,\n",
              " 'worth': 85,\n",
              " 'youths': 86}"
            ]
          },
          "metadata": {},
          "execution_count": 169
        }
      ]
    },
    {
      "cell_type": "markdown",
      "source": [
        "👋 ⚒ How can we now lookup which word is the fifth word in our index list?"
      ],
      "metadata": {
        "id": "dIEa5IZ8hn7D"
      }
    },
    {
      "cell_type": "code",
      "source": [
        "# Your code here\n",
        "\n",
        "fifth_word = ix_to_word[4]\n",
        "fifth_word\n",
        "\n",
        "# I considered the 0 index as an OOV word\n"
      ],
      "metadata": {
        "id": "ObGeIzeTh3MC",
        "colab": {
          "base_uri": "https://localhost:8080/",
          "height": 35
        },
        "outputId": "89e4c495-b1e6-43ae-8ac9-3e0309ca3238"
      },
      "execution_count": 194,
      "outputs": [
        {
          "output_type": "execute_result",
          "data": {
            "text/plain": [
              "'an'"
            ],
            "application/vnd.google.colaboratory.intrinsic+json": {
              "type": "string"
            }
          },
          "metadata": {},
          "execution_count": 194
        }
      ]
    },
    {
      "cell_type": "markdown",
      "source": [
        "We will use a very simple solution of building trigrams to train our model."
      ],
      "metadata": {
        "id": "-4WXk4kpnRyx"
      }
    },
    {
      "cell_type": "code",
      "source": [
        "trigrams = [([training_sentence[i], training_sentence[i + 1]], training_sentence[i + 2])\n",
        "            for i in range(len(training_sentence)-2)]\n",
        "print(trigrams)"
      ],
      "metadata": {
        "id": "bXpIVBjpiyl-",
        "colab": {
          "base_uri": "https://localhost:8080/"
        },
        "outputId": "94e30f87-5d78-4e7f-ad75-ffe8836385ec"
      },
      "execution_count": 171,
      "outputs": [
        {
          "output_type": "stream",
          "name": "stdout",
          "text": [
            "[(['when', 'forty'], 'winters'), (['forty', 'winters'], 'shall'), (['winters', 'shall'], 'besiege'), (['shall', 'besiege'], 'thy'), (['besiege', 'thy'], 'brow'), (['thy', 'brow'], 'and'), (['brow', 'and'], 'dig'), (['and', 'dig'], 'deep'), (['dig', 'deep'], 'trenches'), (['deep', 'trenches'], 'in'), (['trenches', 'in'], 'thy'), (['in', 'thy'], 'beautys'), (['thy', 'beautys'], 'field'), (['beautys', 'field'], 'thy'), (['field', 'thy'], 'youths'), (['thy', 'youths'], 'proud'), (['youths', 'proud'], 'livery'), (['proud', 'livery'], 'so'), (['livery', 'so'], 'gazed'), (['so', 'gazed'], 'on'), (['gazed', 'on'], 'now'), (['on', 'now'], 'will'), (['now', 'will'], 'be'), (['will', 'be'], 'a'), (['be', 'a'], 'totterd'), (['a', 'totterd'], 'weed'), (['totterd', 'weed'], 'of'), (['weed', 'of'], 'small'), (['of', 'small'], 'worth'), (['small', 'worth'], 'held'), (['worth', 'held'], 'then'), (['held', 'then'], 'being'), (['then', 'being'], 'asked'), (['being', 'asked'], 'where'), (['asked', 'where'], 'all'), (['where', 'all'], 'thy'), (['all', 'thy'], 'beauty'), (['thy', 'beauty'], 'lies'), (['beauty', 'lies'], 'where'), (['lies', 'where'], 'all'), (['where', 'all'], 'the'), (['all', 'the'], 'treasure'), (['the', 'treasure'], 'of'), (['treasure', 'of'], 'thy'), (['of', 'thy'], 'lusty'), (['thy', 'lusty'], 'days'), (['lusty', 'days'], 'to'), (['days', 'to'], 'say'), (['to', 'say'], 'within'), (['say', 'within'], 'thine'), (['within', 'thine'], 'own'), (['thine', 'own'], 'deep'), (['own', 'deep'], 'sunken'), (['deep', 'sunken'], 'eyes'), (['sunken', 'eyes'], 'were'), (['eyes', 'were'], 'an'), (['were', 'an'], 'alleating'), (['an', 'alleating'], 'shame'), (['alleating', 'shame'], 'and'), (['shame', 'and'], 'thriftless'), (['and', 'thriftless'], 'praise'), (['thriftless', 'praise'], 'how'), (['praise', 'how'], 'much'), (['how', 'much'], 'more'), (['much', 'more'], 'praise'), (['more', 'praise'], 'deservd'), (['praise', 'deservd'], 'thy'), (['deservd', 'thy'], 'beautys'), (['thy', 'beautys'], 'use'), (['beautys', 'use'], 'if'), (['use', 'if'], 'thou'), (['if', 'thou'], 'couldst'), (['thou', 'couldst'], 'answer'), (['couldst', 'answer'], 'this'), (['answer', 'this'], 'fair'), (['this', 'fair'], 'child'), (['fair', 'child'], 'of'), (['child', 'of'], 'mine'), (['of', 'mine'], 'shall'), (['mine', 'shall'], 'sum'), (['shall', 'sum'], 'my'), (['sum', 'my'], 'count'), (['my', 'count'], 'and'), (['count', 'and'], 'make'), (['and', 'make'], 'my'), (['make', 'my'], 'old'), (['my', 'old'], 'excuse'), (['old', 'excuse'], 'proving'), (['excuse', 'proving'], 'his'), (['proving', 'his'], 'beauty'), (['his', 'beauty'], 'by'), (['beauty', 'by'], 'succession'), (['by', 'succession'], 'thine'), (['succession', 'thine'], 'this'), (['thine', 'this'], 'were'), (['this', 'were'], 'to'), (['were', 'to'], 'be'), (['to', 'be'], 'new'), (['be', 'new'], 'made'), (['new', 'made'], 'when'), (['made', 'when'], 'thou'), (['when', 'thou'], 'art'), (['thou', 'art'], 'old'), (['art', 'old'], 'and'), (['old', 'and'], 'see'), (['and', 'see'], 'thy'), (['see', 'thy'], 'blood'), (['thy', 'blood'], 'warm'), (['blood', 'warm'], 'when'), (['warm', 'when'], 'thou'), (['when', 'thou'], 'feelst'), (['thou', 'feelst'], 'it'), (['feelst', 'it'], 'cold')]\n"
          ]
        }
      ]
    },
    {
      "cell_type": "code",
      "source": [
        "class NGramLanguageModeler(nn.Module):\n",
        "\n",
        "    def __init__(self, vocab_size, embedding_dim, window_size, hidden_dim):\n",
        "        super(NGramLanguageModeler, self).__init__()          # calls the constructor of the parent class (nn.Module) to initialize the model\n",
        "\n",
        "        self.embeddings = nn.Embedding(vocab_size, embedding_dim) # creates an embedding layer;  converts input indices into dense vectors\n",
        "        self.hidden_layer = nn.Sequential(                        # hidden layer of the model as a sequential container\n",
        "            nn.Linear(window_size * embedding_dim, hidden_dim),\n",
        "            nn.ReLU()\n",
        "        )\n",
        "        self.output_layer = nn.Linear(hidden_dim, vocab_size)     # creates the output layer; takes the hidden representation and produces output scores for each word in the vocabulary\n",
        "\n",
        "    def forward(self, inputs):                            # specifies how the input data should be processed through the layers to produce the output\n",
        "        embeds = self.embeddings(inputs).view((1, -1))    # takes the input indices inputs, passes them through the embedding layer, and flattens the resulting tensor into a 1D tensor\n",
        "        layer1 = self.hidden_layer(embeds)                # passes the flattened embeddings through the hidden layer, applying the linear transformation followed by the ReLU activation\n",
        "        output = self.output_layer(layer1)                # passes the result of the hidden layer through the output layer, producing the final output scores for each word in the vocabulary\n",
        "        probabilities = nn.functional.log_softmax(output, dim=1)\n",
        "        return probabilities"
      ],
      "metadata": {
        "id": "_YJ-w7APcUO0"
      },
      "execution_count": 172,
      "outputs": []
    },
    {
      "cell_type": "markdown",
      "source": [
        "👋 ⚒ Now let's train the model. Try to adapt the hyperparamters so that the total_loss is reduced. These include in the initial settings:\n",
        "\n",
        "*   Dimensionality of the embeddings: 10\n",
        "*   Dimensionality of the hidden layer: 128\n",
        "*   Number of epochs: 10\n",
        "*   Learning rate: 0.002\n",
        "*   Loss function (`NLLLoss()` Negative Log Likelihood right now)\n",
        "\n",
        "The window size can in this toy example not be changed, since we train on trigrams (so we only have two context words in the set).\n",
        "\n",
        "The code cell before, the `class NGramLanguageModeler(nn.Module)` defines the exact setup of the network. For the setup one thing to change could be the  activation functions (ReLU and Log-Softmax right now) - others can be found [here](https://pytorch.org/docs/stable/nn.html) for sequential layers and here for other uses as [nn.functional](https://pytorch.org/docs/stable/nn.functional.html)).\n",
        "\n",
        "Just for comparison, this is the initial output with the first settings of the notebook:\n",
        "\n",
        "`See how loss decreases with each epoch:  [4.502952638980561, 4.453238930322428, 4.404419487556525, 4.356399970771992, 4.309086953644204, 4.262444785210938, 4.216389432417608, 4.170906921403598, 4.125928629816106, 4.081349758975274]\n",
        "Loss of the last epoch: 4.081349758975274`\n",
        "\n",
        "\n"
      ],
      "metadata": {
        "id": "yCuqOvyfxS3R"
      }
    },
    {
      "cell_type": "code",
      "source": [
        "window_size = 2\n",
        "#embedding_dim = 10\n",
        "embedding_dim = 100\n",
        "#hidden_dim = 128\n",
        "hidden_dim = 300\n",
        "num_epochs = 30\n",
        "\n",
        "losses = []\n",
        "# Negative log likelihood\n",
        "loss_function = nn.NLLLoss()\n",
        "ngram_model = NGramLanguageModeler(len(vocabulary), embedding_dim, window_size, hidden_dim)\n",
        "\n",
        "# What do SGD and lr mean? What happenes if you change them?\n",
        "optimizer = torch.optim.SGD(ngram_model.parameters(), lr=0.002)\n",
        "\n",
        "for epoch in range(num_epochs):\n",
        "    total_loss = 0\n",
        "    for context, target in trigrams:\n",
        "        # Step 1. Prepare the inputs to be passed to the model (i.e, turn the words\n",
        "        # into integer indices and wrap them in tensors)\n",
        "        context_idxs = torch.tensor([word_to_ix[w] for w in context], dtype=torch.long)\n",
        "\n",
        "        # Step 2. Recall that torch *accumulates* gradients. Before passing in a\n",
        "        # new instance, you need to zero out the gradients from the old\n",
        "        # instance\n",
        "        optimizer.zero_grad()\n",
        "\n",
        "        # Step 3. Run the forward pass, getting probabilities over next\n",
        "        # words - the size of this tensor is 87 corresponding to the size of the vocabulary\n",
        "        probabilities = ngram_model.forward(context_idxs)\n",
        "\n",
        "        # Step 4. Compute your loss function. The target word (gold standard label) needs to be\n",
        "        # wrapped in a tensor.\n",
        "        loss = loss_function(probabilities, torch.tensor([word_to_ix[target]], dtype=torch.long))\n",
        "\n",
        "        # Step 5. Do the backward pass and update the gradient\n",
        "        loss.backward()\n",
        "        optimizer.step()\n",
        "\n",
        "        # Get the Python number from a 1-element Tensor by calling tensor.item()\n",
        "        total_loss += loss.item()\n",
        "    losses.append(total_loss / len(trigrams))\n",
        "\n",
        "print(\"See how loss decreases with each epoch: \", losses)\n",
        "print(\"Loss of the last epoch:\", losses[-1])"
      ],
      "metadata": {
        "id": "Q9jWtyRkjI7n",
        "colab": {
          "base_uri": "https://localhost:8080/"
        },
        "outputId": "6c43eddd-fd09-4a98-b383-eab67b63c0fc"
      },
      "execution_count": 184,
      "outputs": [
        {
          "output_type": "stream",
          "name": "stdout",
          "text": [
            "See how loss decreases with each epoch:  [4.487901048322694, 4.340056104997618, 4.195154086678429, 4.052556094870103, 3.9115185020244225, 3.771405781264854, 3.63199930275436, 3.492593377037386, 3.3530263457678062, 3.2127565103294575, 3.0720596229080606, 2.930731737508183, 2.789144310276065, 2.6478008538220834, 2.5069692177055156, 2.3669838304013275, 2.2284098467995634, 2.0918758100112984, 1.9580623702665345, 1.827540348061418, 1.7005750534281265, 1.5780810207392262, 1.4604113154706702, 1.3480396914271127, 1.241676820062958, 1.1414693835298573, 1.0478215756933247, 0.960797579678814, 0.88043060780099, 0.8067999749848273]\n",
            "Loss of the last epoch: 0.8067999749848273\n"
          ]
        }
      ]
    },
    {
      "cell_type": "markdown",
      "source": [
        "👋 ⚒ Implement the cosine simmilarity for the trained embeddings. For this you need to choose too find the index of the two words you wish to compare, get their embeddings, convert them into numpy arrays, and run them through the cosine function provided."
      ],
      "metadata": {
        "id": "-vNFAngV4S3c"
      }
    },
    {
      "cell_type": "code",
      "source": [
        "import torch\n",
        "import numpy as np\n",
        "from numpy.linalg import norm\n",
        "\n",
        "word1 = \"beauty\"\n",
        "word2 = \"treasure\"\n",
        "index_word1 = word_to_ix[word1]\n",
        "index_word2 = word_to_ix[word2]\n",
        "\n",
        "# Tensor to look up specific embeddings\n",
        "lookup_tensor = torch.tensor(list(word_to_ix.values()), dtype=torch.long)\n",
        "\n",
        "# Embedding for the 10th word1 (beauty) word in the vocabulary:\n",
        "lookup_embeds_word1 = ngram_model.embeddings(lookup_tensor)[index_word1]         #[10]\n",
        "print(f\"Embedding for word '{word1}':\\n {lookup_embeds_word1}\\n\")\n",
        "\n",
        "# Embedding for the 74th (treasure) word in the vocabulary:\n",
        "lookup_embeds_word2 = ngram_model.embeddings(lookup_tensor)[index_word2]         #[74]\n",
        "print(f\"Embedding for word '{word2}':\\n {lookup_embeds_word2}\\n\")\n",
        "\n",
        "# Convert the embedding tensor to a NumPy array:\n",
        "embedding_array_word1 = lookup_embeds_word1.detach().numpy()\n",
        "print(f\"Embedding for word '{word1}' as NumPy array:\\n {embedding_array_word1}\\n\")\n",
        "\n",
        "embedding_array_word2 = lookup_embeds_word2.detach().numpy()\n",
        "print(f\"Embedding for word '{word2}' as NumPy array:\\n {embedding_array_word2}\\n\")\n",
        "\n",
        "print(\"__________________________________________________\")\n",
        "\n",
        "#cosine = np.dot(A,B)/(norm(A, axis=1)*norm(B))\n",
        "cosine = np.dot(embedding_array_word1, embedding_array_word2) / (norm(embedding_array_word1) * norm(embedding_array_word2))\n",
        "\n",
        "print(f\"Cosine similarity between '{word1}' and '{word2}':\\n{cosine}\")\n",
        "print(cosine) #Why there is a difference? --- might not display all the decimal places\n",
        "\n",
        "\n",
        "\n"
      ],
      "metadata": {
        "colab": {
          "base_uri": "https://localhost:8080/"
        },
        "id": "yGLcgKIH4rn1",
        "outputId": "f826308e-0789-4808-83b0-4b03e9fabb52"
      },
      "execution_count": 210,
      "outputs": [
        {
          "output_type": "stream",
          "name": "stdout",
          "text": [
            "Embedding for word 'beauty':\n",
            " tensor([-0.3680, -0.0494,  1.2171, -1.5308, -0.6764, -0.5091,  0.6183,  1.0730,\n",
            "         0.2889, -0.1775,  1.1132,  2.2134,  1.2887, -0.1574,  0.7096, -0.3561,\n",
            "        -0.5816, -1.8774, -0.8243, -0.2820, -0.5314,  1.1153, -0.5679, -0.2579,\n",
            "         2.5918, -0.2809,  0.5132,  0.3900,  0.5723, -0.4696, -0.6464,  0.1209,\n",
            "        -0.2123, -0.6325, -0.8746,  1.0276,  0.4383,  0.7355, -0.7584,  0.4323,\n",
            "         0.0372, -0.5926,  1.5436,  2.1966, -0.6841, -2.0652,  0.4222,  0.0199,\n",
            "         0.4301,  0.2294,  0.4967, -1.0874,  0.1335,  1.2891, -1.8101, -1.1112,\n",
            "        -0.6953, -0.9038,  1.3517,  1.9084,  0.5619, -0.1569, -0.7110, -0.4901,\n",
            "         0.0235,  0.9996,  0.5041, -1.3395,  0.9625, -0.7438, -0.9277, -2.8309,\n",
            "        -0.1226, -0.3207,  1.4782,  0.8456, -1.1601,  0.4863, -0.0860, -0.1175,\n",
            "        -0.8490,  0.4749, -0.1351, -2.6311,  0.6834,  0.0379, -1.9022, -0.1040,\n",
            "         1.0719,  0.5834,  0.8683, -1.2159,  0.7880,  0.5849, -1.3296,  1.7386,\n",
            "        -0.3643, -0.9800, -0.7673, -0.7183], grad_fn=<SelectBackward0>)\n",
            "\n",
            "Embedding for word 'treasure':\n",
            " tensor([ 1.8493,  1.0913, -1.3523,  0.7142, -0.0247,  0.3971,  0.8563, -1.0579,\n",
            "         0.9686, -1.6019, -0.1874,  0.2284,  0.1659,  1.2210, -0.6126,  0.1176,\n",
            "         0.2372, -0.7122, -1.1508,  0.0884,  0.7860,  1.1949,  1.9019, -0.1721,\n",
            "         0.1178, -0.2107,  0.3797, -0.5016, -1.8263, -0.1754, -1.2541,  0.8519,\n",
            "         2.9255, -0.3096,  0.0411,  0.1099,  1.1772, -0.6835, -0.5047,  0.7104,\n",
            "         0.6355,  1.4532,  0.0559,  0.0775, -0.6345, -1.0245, -0.3218,  0.4676,\n",
            "         1.5135, -0.3193,  0.7940,  0.2493,  0.8273,  0.6715, -0.6312,  0.1085,\n",
            "        -0.3738, -0.9484, -0.4213, -0.6085, -0.3874, -1.9473, -1.3905, -0.3641,\n",
            "        -0.4962,  3.2432, -1.3023,  0.0826,  0.3994,  1.3436, -1.3454, -0.6953,\n",
            "        -0.6612,  0.8994,  0.6981, -0.7168,  0.5344,  2.4833, -0.3426, -1.4918,\n",
            "        -0.2093, -0.8423,  0.3090, -1.5073,  0.7981, -0.0479, -0.5710, -0.6260,\n",
            "         2.9221,  0.2799,  1.4177, -0.8054,  0.8095, -1.4520, -0.8812,  0.8146,\n",
            "         1.5120, -1.4532,  2.9504,  1.3931], grad_fn=<SelectBackward0>)\n",
            "\n",
            "Embedding for word 'beauty' as NumPy array:\n",
            " [-0.36801204 -0.04935857  1.2171209  -1.5308149  -0.6763843  -0.5090849\n",
            "  0.6183257   1.0730407   0.28887945 -0.17753416  1.1131731   2.2134051\n",
            "  1.2887169  -0.15739264  0.70960647 -0.35612538 -0.5815636  -1.8774203\n",
            " -0.8242929  -0.28197423 -0.53141975  1.1152977  -0.5679376  -0.25793353\n",
            "  2.59184    -0.28093418  0.5131522   0.38998365  0.5722572  -0.46962312\n",
            " -0.6464413   0.12089538 -0.2123215  -0.6325387  -0.8746035   1.0276314\n",
            "  0.4382709   0.7355082  -0.75844103  0.4322803   0.03716267 -0.59260637\n",
            "  1.5436484   2.1965902  -0.6841114  -2.065177    0.42222416  0.01986014\n",
            "  0.4301146   0.2293731   0.49667966 -1.0873598   0.13346562  1.2891455\n",
            " -1.8100876  -1.1112341  -0.69533235 -0.9038116   1.3516573   1.9083818\n",
            "  0.56190276 -0.1569172  -0.71095955 -0.49006525  0.0235219   0.9995583\n",
            "  0.5041114  -1.3394675   0.96254843 -0.74380153 -0.92771924 -2.830941\n",
            " -0.12261596 -0.3206972   1.4781723   0.8455927  -1.1600542   0.48631594\n",
            " -0.08602911 -0.11745806 -0.84898424  0.47494546 -0.13513984 -2.631112\n",
            "  0.68341315  0.03785711 -1.9022199  -0.10404588  1.0719041   0.5834206\n",
            "  0.86829627 -1.2159249   0.787988    0.5848524  -1.3295741   1.7386374\n",
            " -0.36428297 -0.9800444  -0.76729286 -0.7183246 ]\n",
            "\n",
            "Embedding for word 'treasure' as NumPy array:\n",
            " [ 1.8492961   1.0912929  -1.3522607   0.7141692  -0.02469057  0.3970681\n",
            "  0.8562657  -1.0579381   0.96857303 -1.6019427  -0.18736628  0.228353\n",
            "  0.16587338  1.2210196  -0.6126475   0.11761562  0.23722331 -0.71217775\n",
            " -1.1508439   0.08836441  0.7859744   1.1949484   1.9018868  -0.17207181\n",
            "  0.11781988 -0.21071017  0.37969717 -0.50157446 -1.8262691  -0.17537786\n",
            " -1.2540827   0.8518893   2.9254909  -0.3096195   0.0411384   0.10994676\n",
            "  1.1772261  -0.68347687 -0.5046695   0.71042275  0.63547736  1.4531784\n",
            "  0.0558635   0.0775203  -0.6344865  -1.0245328  -0.32178244  0.46762472\n",
            "  1.513509   -0.31929058  0.7939555   0.24926086  0.8273008   0.6714568\n",
            " -0.63116175  0.10847123 -0.373761   -0.9483574  -0.4213437  -0.60846734\n",
            " -0.3873582  -1.9472529  -1.3905412  -0.36406004 -0.496203    3.2431707\n",
            " -1.3022995   0.08258228  0.39939913  1.3436412  -1.345435   -0.6952929\n",
            " -0.66122466  0.8994253   0.698083   -0.7167768   0.5344026   2.4832525\n",
            " -0.34255567 -1.4918076  -0.20930427 -0.84231913  0.30904633 -1.5072653\n",
            "  0.79812205 -0.04789605 -0.5710219  -0.626039    2.9220548   0.27992657\n",
            "  1.4177312  -0.80535436  0.8094786  -1.4519798  -0.8811704   0.8146073\n",
            "  1.5120486  -1.4531658   2.9503608   1.393067  ]\n",
            "\n",
            "__________________________________________________\n",
            "Cosine similarity between 'beauty' and 'treasure':\n",
            "0.18938729166984558\n",
            "0.18938729\n"
          ]
        }
      ]
    },
    {
      "cell_type": "markdown",
      "source": [
        "The reason why I have decided to use words and"
      ],
      "metadata": {
        "id": "S6V2P0KygWQR"
      }
    },
    {
      "cell_type": "markdown",
      "source": [
        "**Comment:**\n",
        "\n",
        "For the purposes of visualization, I have decided to use words instead of just indexes in the code. Although I think it would make sense to do the opposite for a more complex program."
      ],
      "metadata": {
        "id": "fT75WdWwhCMo"
      }
    },
    {
      "cell_type": "code",
      "source": [],
      "metadata": {
        "id": "3i-3tBsihFLC"
      },
      "execution_count": null,
      "outputs": []
    }
  ]
}