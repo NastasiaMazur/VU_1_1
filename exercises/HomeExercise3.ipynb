{
  "nbformat": 4,
  "nbformat_minor": 0,
  "metadata": {
    "colab": {
      "provenance": [],
      "include_colab_link": true
    },
    "kernelspec": {
      "name": "python3",
      "display_name": "Python 3"
    },
    "language_info": {
      "name": "python"
    }
  },
  "cells": [
    {
      "cell_type": "markdown",
      "metadata": {
        "id": "view-in-github",
        "colab_type": "text"
      },
      "source": [
        "<a href=\"https://colab.research.google.com/github/NastasiaMazur/VU_1_1/blob/main/exercises/HomeExercise3.ipynb\" target=\"_parent\"><img src=\"https://colab.research.google.com/assets/colab-badge.svg\" alt=\"Open In Colab\"/></a>"
      ]
    },
    {
      "cell_type": "markdown",
      "source": [
        "# Home Exercise 3: Creating Neural Model in PyTorch\n",
        "\n",
        "In this home exercise, you will first learn how to create a neural model in PyTorch and then you will train and improve a mini-implementation of an embedding model.\n"
      ],
      "metadata": {
        "id": "uoESZ6QpJqlh"
      }
    },
    {
      "cell_type": "markdown",
      "source": [
        "---\n",
        "\n",
        "## **Exercise 3a: Neural Network Model**\n",
        "\n",
        "First we need to import the neural network module of PyTorch:"
      ],
      "metadata": {
        "id": "816q6jCdJ9sP"
      }
    },
    {
      "cell_type": "code",
      "execution_count": 84,
      "metadata": {
        "id": "cPYVg894JmTc"
      },
      "outputs": [],
      "source": [
        "import torch\n",
        "import torch.nn as nn"
      ]
    },
    {
      "cell_type": "markdown",
      "source": [
        "We can use `nn.Linear(H_in, H_out)` to create a a linear layer. This will take a matrix of `(N, *, H_in)` dimensions and output a matrix of `(N, *, H_out)`. The `*` denotes that there could be arbitrary number of dimensions in between. The linear layer performs the operation `Ax+b`, where `A` and `b` are initialized randomly. If we don't want the linear layer to learn the bias parameters, we can initialize our layer with `bias=False`."
      ],
      "metadata": {
        "id": "NvK5KMXlad5E"
      }
    },
    {
      "cell_type": "code",
      "source": [
        "# Create the inputs\n",
        "input = torch.ones(2,3,4)\n",
        "print(\"Input \", input)\n",
        "\n",
        "# N* H_in -> N*H_out\n",
        "linear = nn.Linear(4, 2)\n",
        "linear_output = linear(input)\n",
        "linear_output"
      ],
      "metadata": {
        "id": "TSt4jv5Dag8K",
        "colab": {
          "base_uri": "https://localhost:8080/"
        },
        "outputId": "50877f5c-4745-4b72-8408-00b685b63ddf"
      },
      "execution_count": 85,
      "outputs": [
        {
          "output_type": "stream",
          "name": "stdout",
          "text": [
            "Input  tensor([[[1., 1., 1., 1.],\n",
            "         [1., 1., 1., 1.],\n",
            "         [1., 1., 1., 1.]],\n",
            "\n",
            "        [[1., 1., 1., 1.],\n",
            "         [1., 1., 1., 1.],\n",
            "         [1., 1., 1., 1.]]])\n"
          ]
        },
        {
          "output_type": "execute_result",
          "data": {
            "text/plain": [
              "tensor([[[-0.0176,  0.3654],\n",
              "         [-0.0176,  0.3654],\n",
              "         [-0.0176,  0.3654]],\n",
              "\n",
              "        [[-0.0176,  0.3654],\n",
              "         [-0.0176,  0.3654],\n",
              "         [-0.0176,  0.3654]]], grad_fn=<ViewBackward0>)"
            ]
          },
          "metadata": {},
          "execution_count": 85
        }
      ]
    },
    {
      "cell_type": "code",
      "source": [
        "list(linear.parameters()) # Ax + b"
      ],
      "metadata": {
        "id": "nxUN1Nf0a_Ep",
        "colab": {
          "base_uri": "https://localhost:8080/"
        },
        "outputId": "96ac6b55-c6c0-49a5-cb0d-9b45354aa295"
      },
      "execution_count": 86,
      "outputs": [
        {
          "output_type": "execute_result",
          "data": {
            "text/plain": [
              "[Parameter containing:\n",
              " tensor([[-0.4753,  0.4576, -0.1313,  0.4969],\n",
              "         [ 0.0978,  0.3345, -0.0681,  0.1483]], requires_grad=True),\n",
              " Parameter containing:\n",
              " tensor([-0.3656, -0.1471], requires_grad=True)]"
            ]
          },
          "metadata": {},
          "execution_count": 86
        }
      ]
    },
    {
      "cell_type": "markdown",
      "source": [
        "Let's add an activation function:"
      ],
      "metadata": {
        "id": "hPBSQbAQbJ-q"
      }
    },
    {
      "cell_type": "code",
      "source": [
        "sigmoid = nn.Sigmoid()\n",
        "output = sigmoid(linear_output)\n",
        "output"
      ],
      "metadata": {
        "id": "GbEo76ejbLb2",
        "colab": {
          "base_uri": "https://localhost:8080/"
        },
        "outputId": "dbda14e4-bb27-4ee8-9a42-b7df9240277f"
      },
      "execution_count": 87,
      "outputs": [
        {
          "output_type": "execute_result",
          "data": {
            "text/plain": [
              "tensor([[[0.4956, 0.5903],\n",
              "         [0.4956, 0.5903],\n",
              "         [0.4956, 0.5903]],\n",
              "\n",
              "        [[0.4956, 0.5903],\n",
              "         [0.4956, 0.5903],\n",
              "         [0.4956, 0.5903]]], grad_fn=<SigmoidBackward0>)"
            ]
          },
          "metadata": {},
          "execution_count": 87
        }
      ]
    },
    {
      "cell_type": "markdown",
      "source": [
        "Instead of creating intermediate layers and passing variables around, we can create a sequence:"
      ],
      "metadata": {
        "id": "sawC0L7lbcZ1"
      }
    },
    {
      "cell_type": "code",
      "source": [
        "block = nn.Sequential(\n",
        "    nn.Linear(4, 2),\n",
        "    nn.Sigmoid()\n",
        ")\n",
        "\n",
        "input = torch.ones(2,3,4)\n",
        "output = block(input)\n",
        "output"
      ],
      "metadata": {
        "id": "XinqnT6TbhtY",
        "colab": {
          "base_uri": "https://localhost:8080/"
        },
        "outputId": "338cafb3-c7b9-437c-d152-4fb99ce59413"
      },
      "execution_count": 88,
      "outputs": [
        {
          "output_type": "execute_result",
          "data": {
            "text/plain": [
              "tensor([[[0.2633, 0.8530],\n",
              "         [0.2633, 0.8530],\n",
              "         [0.2633, 0.8530]],\n",
              "\n",
              "        [[0.2633, 0.8530],\n",
              "         [0.2633, 0.8530],\n",
              "         [0.2633, 0.8530]]], grad_fn=<SigmoidBackward0>)"
            ]
          },
          "metadata": {},
          "execution_count": 88
        }
      ]
    },
    {
      "cell_type": "markdown",
      "source": [
        "---\n",
        "\n",
        "## **Exercise 3b: Word Embeddings**\n"
      ],
      "metadata": {
        "id": "_D_jInC4dMOU"
      }
    },
    {
      "cell_type": "markdown",
      "source": [
        "Instead of using predefined modules of nn we can define our own modules and build custom neural networks. As a toy example, we will convert words to word embeddings. The preprocessing below should be done more elegantly and not as simply as below."
      ],
      "metadata": {
        "id": "uEWtiwRybkj-"
      }
    },
    {
      "cell_type": "code",
      "source": [
        "import string\n",
        "\n",
        "# We will use Shakespeare Sonnet 2\n",
        "test_sentence = \"\"\"When forty winters shall besiege thy brow,\n",
        "And dig deep trenches in thy beauty's field,\n",
        "Thy youth's proud livery so gazed on now,\n",
        "Will be a totter'd weed of small worth held:\n",
        "Then being asked, where all thy beauty lies,\n",
        "Where all the treasure of thy lusty days;\n",
        "To say, within thine own deep sunken eyes,\n",
        "Were an all-eating shame, and thriftless praise.\n",
        "How much more praise deserv'd thy beauty's use,\n",
        "If thou couldst answer 'This fair child of mine\n",
        "Shall sum my count, and make my old excuse,'\n",
        "Proving his beauty by succession thine!\n",
        "This were to be new made when thou art old,\n",
        "And see thy blood warm when thou feel'st it cold.\"\"\"\n",
        "\n",
        "training_sentence = test_sentence.translate(str.maketrans('', '', string.punctuation)).lower().split()\n",
        "print(training_sentence)"
      ],
      "metadata": {
        "id": "HwIWa0p4dkH1",
        "colab": {
          "base_uri": "https://localhost:8080/"
        },
        "outputId": "4232f9b2-6714-4811-fe0f-bb4dd3c788ef"
      },
      "execution_count": 89,
      "outputs": [
        {
          "output_type": "stream",
          "name": "stdout",
          "text": [
            "['when', 'forty', 'winters', 'shall', 'besiege', 'thy', 'brow', 'and', 'dig', 'deep', 'trenches', 'in', 'thy', 'beautys', 'field', 'thy', 'youths', 'proud', 'livery', 'so', 'gazed', 'on', 'now', 'will', 'be', 'a', 'totterd', 'weed', 'of', 'small', 'worth', 'held', 'then', 'being', 'asked', 'where', 'all', 'thy', 'beauty', 'lies', 'where', 'all', 'the', 'treasure', 'of', 'thy', 'lusty', 'days', 'to', 'say', 'within', 'thine', 'own', 'deep', 'sunken', 'eyes', 'were', 'an', 'alleating', 'shame', 'and', 'thriftless', 'praise', 'how', 'much', 'more', 'praise', 'deservd', 'thy', 'beautys', 'use', 'if', 'thou', 'couldst', 'answer', 'this', 'fair', 'child', 'of', 'mine', 'shall', 'sum', 'my', 'count', 'and', 'make', 'my', 'old', 'excuse', 'proving', 'his', 'beauty', 'by', 'succession', 'thine', 'this', 'were', 'to', 'be', 'new', 'made', 'when', 'thou', 'art', 'old', 'and', 'see', 'thy', 'blood', 'warm', 'when', 'thou', 'feelst', 'it', 'cold']\n"
          ]
        }
      ]
    },
    {
      "cell_type": "markdown",
      "source": [
        "Next let's find our vocabulary, i.e., all the unique words in the training data:"
      ],
      "metadata": {
        "id": "ZxO3KXxUflVy"
      }
    },
    {
      "cell_type": "code",
      "source": [
        "vocabulary = set(w for w in training_sentence)\n",
        "vocabulary"
      ],
      "metadata": {
        "id": "cINJIi0NgLIr",
        "colab": {
          "base_uri": "https://localhost:8080/"
        },
        "outputId": "b7d2948b-4190-4175-960e-923e3e7c5c31"
      },
      "execution_count": 90,
      "outputs": [
        {
          "output_type": "execute_result",
          "data": {
            "text/plain": [
              "{'a',\n",
              " 'all',\n",
              " 'alleating',\n",
              " 'an',\n",
              " 'and',\n",
              " 'answer',\n",
              " 'art',\n",
              " 'asked',\n",
              " 'be',\n",
              " 'beauty',\n",
              " 'beautys',\n",
              " 'being',\n",
              " 'besiege',\n",
              " 'blood',\n",
              " 'brow',\n",
              " 'by',\n",
              " 'child',\n",
              " 'cold',\n",
              " 'couldst',\n",
              " 'count',\n",
              " 'days',\n",
              " 'deep',\n",
              " 'deservd',\n",
              " 'dig',\n",
              " 'excuse',\n",
              " 'eyes',\n",
              " 'fair',\n",
              " 'feelst',\n",
              " 'field',\n",
              " 'forty',\n",
              " 'gazed',\n",
              " 'held',\n",
              " 'his',\n",
              " 'how',\n",
              " 'if',\n",
              " 'in',\n",
              " 'it',\n",
              " 'lies',\n",
              " 'livery',\n",
              " 'lusty',\n",
              " 'made',\n",
              " 'make',\n",
              " 'mine',\n",
              " 'more',\n",
              " 'much',\n",
              " 'my',\n",
              " 'new',\n",
              " 'now',\n",
              " 'of',\n",
              " 'old',\n",
              " 'on',\n",
              " 'own',\n",
              " 'praise',\n",
              " 'proud',\n",
              " 'proving',\n",
              " 'say',\n",
              " 'see',\n",
              " 'shall',\n",
              " 'shame',\n",
              " 'small',\n",
              " 'so',\n",
              " 'succession',\n",
              " 'sum',\n",
              " 'sunken',\n",
              " 'the',\n",
              " 'then',\n",
              " 'thine',\n",
              " 'this',\n",
              " 'thou',\n",
              " 'thriftless',\n",
              " 'thy',\n",
              " 'to',\n",
              " 'totterd',\n",
              " 'treasure',\n",
              " 'trenches',\n",
              " 'use',\n",
              " 'warm',\n",
              " 'weed',\n",
              " 'were',\n",
              " 'when',\n",
              " 'where',\n",
              " 'will',\n",
              " 'winters',\n",
              " 'within',\n",
              " 'worth',\n",
              " 'youths'}"
            ]
          },
          "metadata": {},
          "execution_count": 90
        }
      ]
    },
    {
      "cell_type": "markdown",
      "source": [
        "We introduce a special token, `<unk>`, to tackle the words that are out of vocabulary. We could pick another string for our unknown token if we wanted. The only requirement here is that our token should be unique: we should only be using this token for unknown words. We will also add this special token to our vocabulary."
      ],
      "metadata": {
        "id": "PyJFHmLHgdMa"
      }
    },
    {
      "cell_type": "code",
      "source": [
        "vocabulary.add(\"<unk>\")"
      ],
      "metadata": {
        "id": "B52a3cgage0n"
      },
      "execution_count": 91,
      "outputs": []
    },
    {
      "cell_type": "markdown",
      "source": [
        "Now we will create the index for our vocabulary - one index to word and one word to index to make looking up words easier:"
      ],
      "metadata": {
        "id": "0rxs8FuZha0R"
      }
    },
    {
      "cell_type": "code",
      "source": [
        "ix_to_word = sorted(list(vocabulary))\n",
        "word_to_ix = {word: ind for ind, word in enumerate(ix_to_word)}\n",
        "word_to_ix"
      ],
      "metadata": {
        "id": "ACclVi0PhhC9",
        "colab": {
          "base_uri": "https://localhost:8080/"
        },
        "outputId": "16730e71-423e-4967-cf8f-e75401b9b387"
      },
      "execution_count": 92,
      "outputs": [
        {
          "output_type": "execute_result",
          "data": {
            "text/plain": [
              "{'<unk>': 0,\n",
              " 'a': 1,\n",
              " 'all': 2,\n",
              " 'alleating': 3,\n",
              " 'an': 4,\n",
              " 'and': 5,\n",
              " 'answer': 6,\n",
              " 'art': 7,\n",
              " 'asked': 8,\n",
              " 'be': 9,\n",
              " 'beauty': 10,\n",
              " 'beautys': 11,\n",
              " 'being': 12,\n",
              " 'besiege': 13,\n",
              " 'blood': 14,\n",
              " 'brow': 15,\n",
              " 'by': 16,\n",
              " 'child': 17,\n",
              " 'cold': 18,\n",
              " 'couldst': 19,\n",
              " 'count': 20,\n",
              " 'days': 21,\n",
              " 'deep': 22,\n",
              " 'deservd': 23,\n",
              " 'dig': 24,\n",
              " 'excuse': 25,\n",
              " 'eyes': 26,\n",
              " 'fair': 27,\n",
              " 'feelst': 28,\n",
              " 'field': 29,\n",
              " 'forty': 30,\n",
              " 'gazed': 31,\n",
              " 'held': 32,\n",
              " 'his': 33,\n",
              " 'how': 34,\n",
              " 'if': 35,\n",
              " 'in': 36,\n",
              " 'it': 37,\n",
              " 'lies': 38,\n",
              " 'livery': 39,\n",
              " 'lusty': 40,\n",
              " 'made': 41,\n",
              " 'make': 42,\n",
              " 'mine': 43,\n",
              " 'more': 44,\n",
              " 'much': 45,\n",
              " 'my': 46,\n",
              " 'new': 47,\n",
              " 'now': 48,\n",
              " 'of': 49,\n",
              " 'old': 50,\n",
              " 'on': 51,\n",
              " 'own': 52,\n",
              " 'praise': 53,\n",
              " 'proud': 54,\n",
              " 'proving': 55,\n",
              " 'say': 56,\n",
              " 'see': 57,\n",
              " 'shall': 58,\n",
              " 'shame': 59,\n",
              " 'small': 60,\n",
              " 'so': 61,\n",
              " 'succession': 62,\n",
              " 'sum': 63,\n",
              " 'sunken': 64,\n",
              " 'the': 65,\n",
              " 'then': 66,\n",
              " 'thine': 67,\n",
              " 'this': 68,\n",
              " 'thou': 69,\n",
              " 'thriftless': 70,\n",
              " 'thy': 71,\n",
              " 'to': 72,\n",
              " 'totterd': 73,\n",
              " 'treasure': 74,\n",
              " 'trenches': 75,\n",
              " 'use': 76,\n",
              " 'warm': 77,\n",
              " 'weed': 78,\n",
              " 'were': 79,\n",
              " 'when': 80,\n",
              " 'where': 81,\n",
              " 'will': 82,\n",
              " 'winters': 83,\n",
              " 'within': 84,\n",
              " 'worth': 85,\n",
              " 'youths': 86}"
            ]
          },
          "metadata": {},
          "execution_count": 92
        }
      ]
    },
    {
      "cell_type": "markdown",
      "source": [
        "👋 ⚒ How can we now lookup which word is the fifth word in our index list?"
      ],
      "metadata": {
        "id": "dIEa5IZ8hn7D"
      }
    },
    {
      "cell_type": "code",
      "source": [
        "# Your code here\n",
        "fifth_ix = 4\n",
        "fifth_word = [word for word, ix in word_to_ix.items() if ix == fifth_ix][0]\n",
        "fifth_word\n",
        "# I considered the 0 index as an OOV word\n"
      ],
      "metadata": {
        "id": "ObGeIzeTh3MC",
        "colab": {
          "base_uri": "https://localhost:8080/",
          "height": 35
        },
        "outputId": "f73f86d6-f17c-4c72-d8f6-6478fd9f5923"
      },
      "execution_count": 93,
      "outputs": [
        {
          "output_type": "execute_result",
          "data": {
            "text/plain": [
              "'an'"
            ],
            "application/vnd.google.colaboratory.intrinsic+json": {
              "type": "string"
            }
          },
          "metadata": {},
          "execution_count": 93
        }
      ]
    },
    {
      "cell_type": "markdown",
      "source": [
        "We will use a very simple solution of building trigrams to train our model."
      ],
      "metadata": {
        "id": "-4WXk4kpnRyx"
      }
    },
    {
      "cell_type": "code",
      "source": [
        "trigrams = [([training_sentence[i], training_sentence[i + 1]], training_sentence[i + 2])\n",
        "            for i in range(len(training_sentence)-2)]\n",
        "print(trigrams)"
      ],
      "metadata": {
        "id": "bXpIVBjpiyl-",
        "colab": {
          "base_uri": "https://localhost:8080/"
        },
        "outputId": "d39d2355-80b1-462d-ee99-e928d0477518"
      },
      "execution_count": 94,
      "outputs": [
        {
          "output_type": "stream",
          "name": "stdout",
          "text": [
            "[(['when', 'forty'], 'winters'), (['forty', 'winters'], 'shall'), (['winters', 'shall'], 'besiege'), (['shall', 'besiege'], 'thy'), (['besiege', 'thy'], 'brow'), (['thy', 'brow'], 'and'), (['brow', 'and'], 'dig'), (['and', 'dig'], 'deep'), (['dig', 'deep'], 'trenches'), (['deep', 'trenches'], 'in'), (['trenches', 'in'], 'thy'), (['in', 'thy'], 'beautys'), (['thy', 'beautys'], 'field'), (['beautys', 'field'], 'thy'), (['field', 'thy'], 'youths'), (['thy', 'youths'], 'proud'), (['youths', 'proud'], 'livery'), (['proud', 'livery'], 'so'), (['livery', 'so'], 'gazed'), (['so', 'gazed'], 'on'), (['gazed', 'on'], 'now'), (['on', 'now'], 'will'), (['now', 'will'], 'be'), (['will', 'be'], 'a'), (['be', 'a'], 'totterd'), (['a', 'totterd'], 'weed'), (['totterd', 'weed'], 'of'), (['weed', 'of'], 'small'), (['of', 'small'], 'worth'), (['small', 'worth'], 'held'), (['worth', 'held'], 'then'), (['held', 'then'], 'being'), (['then', 'being'], 'asked'), (['being', 'asked'], 'where'), (['asked', 'where'], 'all'), (['where', 'all'], 'thy'), (['all', 'thy'], 'beauty'), (['thy', 'beauty'], 'lies'), (['beauty', 'lies'], 'where'), (['lies', 'where'], 'all'), (['where', 'all'], 'the'), (['all', 'the'], 'treasure'), (['the', 'treasure'], 'of'), (['treasure', 'of'], 'thy'), (['of', 'thy'], 'lusty'), (['thy', 'lusty'], 'days'), (['lusty', 'days'], 'to'), (['days', 'to'], 'say'), (['to', 'say'], 'within'), (['say', 'within'], 'thine'), (['within', 'thine'], 'own'), (['thine', 'own'], 'deep'), (['own', 'deep'], 'sunken'), (['deep', 'sunken'], 'eyes'), (['sunken', 'eyes'], 'were'), (['eyes', 'were'], 'an'), (['were', 'an'], 'alleating'), (['an', 'alleating'], 'shame'), (['alleating', 'shame'], 'and'), (['shame', 'and'], 'thriftless'), (['and', 'thriftless'], 'praise'), (['thriftless', 'praise'], 'how'), (['praise', 'how'], 'much'), (['how', 'much'], 'more'), (['much', 'more'], 'praise'), (['more', 'praise'], 'deservd'), (['praise', 'deservd'], 'thy'), (['deservd', 'thy'], 'beautys'), (['thy', 'beautys'], 'use'), (['beautys', 'use'], 'if'), (['use', 'if'], 'thou'), (['if', 'thou'], 'couldst'), (['thou', 'couldst'], 'answer'), (['couldst', 'answer'], 'this'), (['answer', 'this'], 'fair'), (['this', 'fair'], 'child'), (['fair', 'child'], 'of'), (['child', 'of'], 'mine'), (['of', 'mine'], 'shall'), (['mine', 'shall'], 'sum'), (['shall', 'sum'], 'my'), (['sum', 'my'], 'count'), (['my', 'count'], 'and'), (['count', 'and'], 'make'), (['and', 'make'], 'my'), (['make', 'my'], 'old'), (['my', 'old'], 'excuse'), (['old', 'excuse'], 'proving'), (['excuse', 'proving'], 'his'), (['proving', 'his'], 'beauty'), (['his', 'beauty'], 'by'), (['beauty', 'by'], 'succession'), (['by', 'succession'], 'thine'), (['succession', 'thine'], 'this'), (['thine', 'this'], 'were'), (['this', 'were'], 'to'), (['were', 'to'], 'be'), (['to', 'be'], 'new'), (['be', 'new'], 'made'), (['new', 'made'], 'when'), (['made', 'when'], 'thou'), (['when', 'thou'], 'art'), (['thou', 'art'], 'old'), (['art', 'old'], 'and'), (['old', 'and'], 'see'), (['and', 'see'], 'thy'), (['see', 'thy'], 'blood'), (['thy', 'blood'], 'warm'), (['blood', 'warm'], 'when'), (['warm', 'when'], 'thou'), (['when', 'thou'], 'feelst'), (['thou', 'feelst'], 'it'), (['feelst', 'it'], 'cold')]\n"
          ]
        }
      ]
    },
    {
      "cell_type": "code",
      "source": [
        "class NGramLanguageModeler(nn.Module):\n",
        "\n",
        "    def __init__(self, vocab_size, embedding_dim, window_size, hidden_dim):\n",
        "        super(NGramLanguageModeler, self).__init__()          # calls the constructor of the parent class (nn.Module) to initialize the model\n",
        "\n",
        "        self.embeddings = nn.Embedding(vocab_size, embedding_dim) # creates an embedding layer;  converts input indices into dense vectors\n",
        "        self.hidden_layer = nn.Sequential(                        # hidden layer of the model as a sequential container\n",
        "            nn.Linear(window_size * embedding_dim, hidden_dim),\n",
        "            nn.ReLU()\n",
        "        )\n",
        "        self.output_layer = nn.Linear(hidden_dim, vocab_size)     # creates the output layer; takes the hidden representation and produces output scores for each word in the vocabulary\n",
        "\n",
        "    def forward(self, inputs):                            # specifies how the input data should be processed through the layers to produce the output\n",
        "        embeds = self.embeddings(inputs).view((1, -1))    # takes the input indices inputs, passes them through the embedding layer, and flattens the resulting tensor into a 1D tensor\n",
        "        layer1 = self.hidden_layer(embeds)                # passes the flattened embeddings through the hidden layer, applying the linear transformation followed by the ReLU activation\n",
        "        output = self.output_layer(layer1)                # passes the result of the hidden layer through the output layer, producing the final output scores for each word in the vocabulary\n",
        "        probabilities = nn.functional.log_softmax(output, dim=1)\n",
        "        return probabilities"
      ],
      "metadata": {
        "id": "_YJ-w7APcUO0"
      },
      "execution_count": 95,
      "outputs": []
    },
    {
      "cell_type": "markdown",
      "source": [
        "👋 ⚒ Now let's train the model. Try to adapt the hyperparamters so that the total_loss is reduced. These include in the initial settings:\n",
        "\n",
        "*   Dimensionality of the embeddings: 10\n",
        "*   Dimensionality of the hidden layer: 128\n",
        "*   Number of epochs: 10\n",
        "*   Learning rate: 0.002\n",
        "*   Loss function (`NLLLoss()` Negative Log Likelihood right now)\n",
        "\n",
        "The window size can in this toy example not be changed, since we train on trigrams (so we only have two context words in the set).\n",
        "\n",
        "The code cell before, the `class NGramLanguageModeler(nn.Module)` defines the exact setup of the network. For the setup one thing to change could be the  activation functions (ReLU and Log-Softmax right now) - others can be found [here](https://pytorch.org/docs/stable/nn.html) for sequential layers and here for other uses as [nn.functional](https://pytorch.org/docs/stable/nn.functional.html)).\n",
        "\n",
        "Just for comparison, this is the initial output with the first settings of the notebook:\n",
        "\n",
        "`See how loss decreases with each epoch:  [4.502952638980561, 4.453238930322428, 4.404419487556525, 4.356399970771992, 4.309086953644204, 4.262444785210938, 4.216389432417608, 4.170906921403598, 4.125928629816106, 4.081349758975274]\n",
        "Loss of the last epoch: 4.081349758975274`\n",
        "\n",
        "\n"
      ],
      "metadata": {
        "id": "yCuqOvyfxS3R"
      }
    },
    {
      "cell_type": "code",
      "source": [
        "window_size = 2\n",
        "#embedding_dim = 10\n",
        "embedding_dim = 50\n",
        "#hidden_dim = 128\n",
        "hidden_dim = 256\n",
        "num_epochs = 10\n",
        "\n",
        "losses = []\n",
        "# Negative log likelihood\n",
        "loss_function = nn.NLLLoss()\n",
        "ngram_model = NGramLanguageModeler(len(vocabulary), embedding_dim, window_size, hidden_dim)\n",
        "\n",
        "# What do SGD and lr mean? What happenes if you change them?\n",
        "optimizer = torch.optim.SGD(ngram_model.parameters(), lr=0.002)\n",
        "\n",
        "for epoch in range(num_epochs):\n",
        "    total_loss = 0\n",
        "    for context, target in trigrams:\n",
        "        # Step 1. Prepare the inputs to be passed to the model (i.e, turn the words\n",
        "        # into integer indices and wrap them in tensors)\n",
        "        context_idxs = torch.tensor([word_to_ix[w] for w in context], dtype=torch.long)\n",
        "\n",
        "        # Step 2. Recall that torch *accumulates* gradients. Before passing in a\n",
        "        # new instance, you need to zero out the gradients from the old\n",
        "        # instance\n",
        "        optimizer.zero_grad()\n",
        "\n",
        "        # Step 3. Run the forward pass, getting probabilities over next\n",
        "        # words - the size of this tensor is 87 corresponding to the size of the vocabulary\n",
        "        probabilities = ngram_model.forward(context_idxs)\n",
        "\n",
        "        # Step 4. Compute your loss function. The target word (gold standard label) needs to be\n",
        "        # wrapped in a tensor.\n",
        "        loss = loss_function(probabilities, torch.tensor([word_to_ix[target]], dtype=torch.long))\n",
        "\n",
        "        # Step 5. Do the backward pass and update the gradient\n",
        "        loss.backward()\n",
        "        optimizer.step()\n",
        "\n",
        "        # Get the Python number from a 1-element Tensor by calling tensor.item()\n",
        "        total_loss += loss.item()\n",
        "    losses.append(total_loss / len(trigrams))\n",
        "\n",
        "print(\"See how loss decreases with each epoch: \", losses)\n",
        "print(\"Loss of the last epoch:\", losses[-1])"
      ],
      "metadata": {
        "id": "Q9jWtyRkjI7n",
        "colab": {
          "base_uri": "https://localhost:8080/"
        },
        "outputId": "7d583862-b289-42d0-88b3-d6212f470ff6"
      },
      "execution_count": 97,
      "outputs": [
        {
          "output_type": "stream",
          "name": "stdout",
          "text": [
            "See how loss decreases with each epoch:  [4.49342289646115, 4.388323336575938, 4.285124076151215, 4.183570576980051, 4.083265519775121, 3.983727045818768, 3.884790912138677, 3.786367958625861, 3.688175365988132, 3.590011345601715]\n",
            "Loss of the last epoch: 3.590011345601715\n"
          ]
        }
      ]
    },
    {
      "cell_type": "markdown",
      "source": [
        "👋 ⚒ Implement the cosine simmilarity for the trained embeddings. For this you need to choose too find the index of the two words you wish to compare, get their embeddings, convert them into numpy arrays, and run them through the cosine function provided."
      ],
      "metadata": {
        "id": "-vNFAngV4S3c"
      }
    },
    {
      "cell_type": "code",
      "source": [
        "import numpy as np # my code\n",
        "\n",
        "# Tensor to look up specific embeddings\n",
        "lookup_tensor = torch.tensor(list(word_to_ix.values()), dtype=torch.long)\n",
        "print(lookup_tensor) # my code\n",
        "\n",
        "# Embedding for the first word in the vocabulary\n",
        "lookup_embeds = ngram_model.embeddings(lookup_tensor)[0]\n",
        "print(lookup_embeds)\n",
        "#cosine = np.dot(A,B)/(norm(A, axis=1)*norm(B))\n",
        "\n",
        "# Example: Calculate cosine similarity between the embeddings of two words # my code\n",
        "word1_index = word_to_ix[\"thy\"] # my code\n",
        "word2_index = word_to_ix[\"beauty\"] # my code\n",
        "# Get embeddings # my code\n",
        "embedding_word1 = ngram_model.embeddings(torch.tensor([word1_index], dtype=torch.long))[0].detach().numpy() # my code\n",
        "embedding_word2 = ngram_model.embeddings(torch.tensor([word2_index], dtype=torch.long))[0].detach().numpy() # my code\n",
        "\n",
        "# my code:\n",
        "def cosine_similarity(A, B):\n",
        "    dot_product = np.dot(A, B)\n",
        "    norm_A = np.linalg.norm(A)\n",
        "    norm_B = np.linalg.norm(B)\n",
        "    similarity = dot_product / (norm_A * norm_B)\n",
        "    return similarity\n",
        "\n",
        "# Calculate cosine similarity # my code\n",
        "cosine_similarity_value = cosine_similarity(embedding_word1, embedding_word2) # my code\n",
        "print(\"Cosine Similarity between 2 words:\", cosine_similarity_value) # my code\n",
        "\n"
      ],
      "metadata": {
        "id": "9eHeSFIwtnNZ",
        "colab": {
          "base_uri": "https://localhost:8080/"
        },
        "outputId": "960e2438-9495-4707-bd2c-dfaec49b95ed"
      },
      "execution_count": 104,
      "outputs": [
        {
          "output_type": "stream",
          "name": "stdout",
          "text": [
            "tensor([ 0,  1,  2,  3,  4,  5,  6,  7,  8,  9, 10, 11, 12, 13, 14, 15, 16, 17,\n",
            "        18, 19, 20, 21, 22, 23, 24, 25, 26, 27, 28, 29, 30, 31, 32, 33, 34, 35,\n",
            "        36, 37, 38, 39, 40, 41, 42, 43, 44, 45, 46, 47, 48, 49, 50, 51, 52, 53,\n",
            "        54, 55, 56, 57, 58, 59, 60, 61, 62, 63, 64, 65, 66, 67, 68, 69, 70, 71,\n",
            "        72, 73, 74, 75, 76, 77, 78, 79, 80, 81, 82, 83, 84, 85, 86])\n",
            "tensor([ 2.8897, -1.6840,  0.4014,  0.1840,  0.0541, -0.7877, -0.0118,  0.9142,\n",
            "        -0.2238,  0.8519,  0.8934,  3.1170, -0.0438,  1.9054,  0.2303, -1.4030,\n",
            "        -2.0621,  0.0404, -0.0242,  0.5947, -0.6109, -0.8753, -0.4947, -0.1240,\n",
            "        -1.2156, -1.3851,  0.0031,  0.7782, -0.9306,  0.4787, -0.9150, -0.4600,\n",
            "        -1.0714, -0.0929,  1.9805,  1.0161,  1.5828, -0.7693,  0.4117, -0.7375,\n",
            "        -1.5565, -0.0306, -0.2960, -0.3483, -0.1584, -0.0138, -0.2453,  0.6473,\n",
            "         0.0519,  0.3841], grad_fn=<SelectBackward0>)\n",
            "Cosine Similarity between 2 words: -0.07576379\n"
          ]
        }
      ]
    },
    {
      "cell_type": "code",
      "source": [
        "import torch\n",
        "\n",
        "word1 = \"beauty\"\n",
        "word2 = \"treasure\"\n",
        "\n",
        "index_word1 = word_to_ix[word1]\n",
        "index_word2 = word_to_ix[word2]\n",
        "\n",
        "# Tensor to look up specific embeddings\n",
        "lookup_tensor = torch.tensor(list(word_to_ix.values()), dtype=torch.long)\n",
        "\n",
        "# Embedding for the first word in the vocabulary\n",
        "lookup_embeds = ngram_model.embeddings(lookup_tensor)[0]\n",
        "print(lookup_embeds)\n",
        "\n",
        "#Convert embeddings into numpy arrays: #my code\n",
        "embed_word1 = lookup_embeds[0].detach().numpy()\n",
        "embed_word2 = lookup_embeds[1].detach().numpy()\n",
        "\n",
        "# Calculate dot product #my code\n",
        "dot_product = np.dot(embed_word1, embed_word2)\n",
        "# Calculate norms #my code\n",
        "norm_word1 = np.sqrt(np.sum(embed_word1**2))\n",
        "norm_word2 = np.sqrt(np.sum(embed_word2**2))\n",
        "\n",
        "# Calculate cosine similarity #my code\n",
        "cosine_similarity = dot_product / (norm_word1 * norm_word2)\n",
        "print(cosine_similarity)\n",
        "\n",
        "\n",
        "#cosine_similarity = np.dot(embed_word1, embed_word2) / (np.linalg.norm(embed_word1) * np.linalg.norm(embed_word2))\n",
        "#print(f\"Cosine Similarity between '{word1}' and '{word2}': {cosine_similarity}\")\n",
        "\n",
        "#cosine = np.dot(A,B)/(norm(A, axis=1)*norm(B))"
      ],
      "metadata": {
        "id": "yGLcgKIH4rn1",
        "outputId": "3d007790-2c00-48f7-9282-0e22eba47b4d",
        "colab": {
          "base_uri": "https://localhost:8080/"
        }
      },
      "execution_count": 109,
      "outputs": [
        {
          "output_type": "stream",
          "name": "stdout",
          "text": [
            "tensor([ 2.8897, -1.6840,  0.4014,  0.1840,  0.0541, -0.7877, -0.0118,  0.9142,\n",
            "        -0.2238,  0.8519,  0.8934,  3.1170, -0.0438,  1.9054,  0.2303, -1.4030,\n",
            "        -2.0621,  0.0404, -0.0242,  0.5947, -0.6109, -0.8753, -0.4947, -0.1240,\n",
            "        -1.2156, -1.3851,  0.0031,  0.7782, -0.9306,  0.4787, -0.9150, -0.4600,\n",
            "        -1.0714, -0.0929,  1.9805,  1.0161,  1.5828, -0.7693,  0.4117, -0.7375,\n",
            "        -1.5565, -0.0306, -0.2960, -0.3483, -0.1584, -0.0138, -0.2453,  0.6473,\n",
            "         0.0519,  0.3841], grad_fn=<SelectBackward0>)\n",
            "-1.0\n"
          ]
        }
      ]
    },
    {
      "cell_type": "code",
      "source": [
        "# Tensor to look up specific embeddings\n",
        "lookup_tensor = torch.tensor(list(word_to_ix.values()), dtype=torch.long)\n",
        "\n",
        "# Embedding for the first word in the vocabulary\n",
        "lookup_embeds = ngram_model.embeddings(lookup_tensor)[0]\n",
        "print(lookup_embeds)\n",
        "#cosine = np.dot(A,B)/(norm(A, axis=1)*norm(B))"
      ],
      "metadata": {
        "id": "OtMM7DjF591T"
      },
      "execution_count": null,
      "outputs": []
    }
  ]
}